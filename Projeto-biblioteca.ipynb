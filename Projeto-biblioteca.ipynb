{
 "cells": [
  {
   "cell_type": "code",
   "execution_count": null,
   "metadata": {},
   "outputs": [],
   "source": [
    "import sqlite3\n",
    "import pandas as pd\n",
    "\n",
    "\n",
    "# Conectar ao banco de dados (ou criar se não existir)\n",
    "conn = sqlite3.connect('biblioteca.db')\n",
    "\n",
    "\n",
    "\n",
    "# Definir esquema da tabela Livros\n",
    "query_livros = '''\n",
    "CREATE TABLE IF NOT EXISTS Livros (\n",
    "    id INTEGER PRIMARY KEY,\n",
    "    titulo TEXT NOT NULL,\n",
    "    autor TEXT NOT NULL,\n",
    "    ano_publicacao INTEGER\n",
    ");\n",
    "'''\n",
    "conn.execute(query_livros)\n",
    "\n",
    "# Definir esquema da tabela Usuarios\n",
    "query_usuarios = '''\n",
    "CREATE TABLE IF NOT EXISTS Usuarios (\n",
    "    id INTEGER PRIMARY KEY,\n",
    "    nome TEXT NOT NULL,\n",
    "    email TEXT NOT NULL,\n",
    "    data_registro DATE\n",
    ");\n",
    "'''\n",
    "conn.execute(query_usuarios)\n",
    "\n",
    "# Definir esquema da tabela Emprestimos\n",
    "query_emprestimos = '''\n",
    "CREATE TABLE IF NOT EXISTS Emprestimos (\n",
    "    id INTEGER PRIMARY KEY,\n",
    "    id_livro INTEGER,\n",
    "    id_usuario INTEGER,\n",
    "    data_emprestimo DATE,\n",
    "    data_devolucao DATE,\n",
    "    FOREIGN KEY (id_livro) REFERENCES Livros (id),\n",
    "    FOREIGN KEY (id_usuario) REFERENCES Usuarios (id)\n",
    ");\n",
    "'''\n",
    "conn.execute(query_emprestimos)\n",
    "\n",
    "# Commit para salvar as alterações\n",
    "conn.commit()\n",
    "\n",
    "# Inserir dados na tabela Livros\n",
    "livros_data = [\n",
    "    (1, 'Dom Casmurro', 'Machado de Assis', 1899),\n",
    "    (2, '1984', 'George Orwell', 1949)\n",
    "]\n",
    "conn.executemany('INSERT INTO Livros (id, titulo, autor, ano_publicacao) VALUES (?, ?, ?, ?)', livros_data)\n",
    "\n",
    "# Inserir dados na tabela Usuarios\n",
    "usuarios_data = [\n",
    "    (1, 'João', 'joao@email.com', '2023-08-04'),\n",
    "    (2, 'Maria', 'maria@email.com', '2023-08-04')\n",
    "]\n",
    "conn.executemany('INSERT INTO Usuarios (id, nome, email, data_registro) VALUES (?, ?, ?, ?)', usuarios_data)\n",
    "\n",
    "# Commit para salvar as alterações\n",
    "conn.commit()\n",
    "\n",
    "\n",
    "\n",
    "\n"
   ]
  },
  {
   "cell_type": "code",
   "execution_count": 5,
   "metadata": {},
   "outputs": [
    {
     "name": "stdout",
     "output_type": "stream",
     "text": [
      "   id        titulo             autor  ano_publicacao\n",
      "0   1  Dom Casmurro  Machado de Assis            1899\n",
      "1   2          1984     George Orwell            1949\n"
     ]
    }
   ],
   "source": [
    "\n",
    "query1 = \"SELECT * FROM Livros WHERE ano_publicacao < 2000\"\n",
    "df2 = pd.read_sql_query(query1, conn) \n",
    "print(df2)\n",
    "\n"
   ]
  },
  {
   "cell_type": "code",
   "execution_count": 6,
   "metadata": {},
   "outputs": [
    {
     "name": "stdout",
     "output_type": "stream",
     "text": [
      "              autor  quantidade\n",
      "0     George Orwell           1\n",
      "1  Machado de Assis           1\n"
     ]
    }
   ],
   "source": [
    "\n",
    "query2 = \"SELECT autor, COUNT(*) as quantidade FROM Livros GROUP BY autor\"\n",
    "df2 = pd.read_sql_query(query2, conn) \n",
    "print(df2)"
   ]
  },
  {
   "cell_type": "code",
   "execution_count": 7,
   "metadata": {},
   "outputs": [
    {
     "name": "stdout",
     "output_type": "stream",
     "text": [
      "   id        titulo             autor  ano_publicacao\n",
      "0   1  Dom Casmurro  Machado de Assis            1899\n"
     ]
    }
   ],
   "source": [
    "query3 = \"SELECT * FROM Livros ORDER BY ano_publicacao ASC LIMIT 1\"\n",
    "df2 = pd.read_sql_query(query3, conn) \n",
    "print(df2)"
   ]
  },
  {
   "cell_type": "code",
   "execution_count": null,
   "metadata": {},
   "outputs": [],
   "source": [
    "# Fechar a conexão com o banco de dados\n",
    "conn.close()\n",
    "\n"
   ]
  }
 ],
 "metadata": {
  "kernelspec": {
   "display_name": "Python 3 (ipykernel)",
   "language": "python",
   "name": "python3"
  },
  "language_info": {
   "codemirror_mode": {
    "name": "ipython",
    "version": 3
   },
   "file_extension": ".py",
   "mimetype": "text/x-python",
   "name": "python",
   "nbconvert_exporter": "python",
   "pygments_lexer": "ipython3",
   "version": "3.10.8"
  },
  "orig_nbformat": 4
 },
 "nbformat": 4,
 "nbformat_minor": 2
}
